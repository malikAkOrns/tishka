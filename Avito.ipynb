{
  "nbformat": 4,
  "nbformat_minor": 0,
  "metadata": {
    "colab": {
      "name": "Avito.ipynb",
      "provenance": [],
      "private_outputs": true,
      "machine_shape": "hm"
    },
    "kernelspec": {
      "name": "python3",
      "display_name": "Python 3"
    },
    "accelerator": "GPU"
  },
  "cells": [
    {
      "cell_type": "code",
      "metadata": {
        "id": "i7QxnmQxEgfG",
        "colab_type": "code",
        "colab": {}
      },
      "source": [
        "import os\n",
        "\n",
        "import numpy as np\n",
        "\n",
        "# For DataFrame object\n",
        "import pandas as pd\n",
        "\n",
        "# Neural Network\n",
        "from keras.models import Sequential\n",
        "from keras.layers import Dense, Dropout\n",
        "from keras.optimizers import RMSprop\n",
        "\n",
        "# Text Vectorizing\n",
        "from keras.preprocessing.text import Tokenizer, text_to_word_sequence\n",
        "\n",
        "# Train-test-split\n",
        "from sklearn.model_selection import train_test_split\n",
        "\n",
        "# History visualization\n",
        "%matplotlib inline\n",
        "import matplotlib.pyplot as plt\n",
        "\n",
        "# Normalize\n",
        "from sklearn.preprocessing import normalize"
      ],
      "execution_count": 0,
      "outputs": []
    },
    {
      "cell_type": "code",
      "metadata": {
        "id": "uVW1oUS0Enbw",
        "colab_type": "code",
        "colab": {}
      },
      "source": [
        "path = '/content/drive/My Drive/val.csv'\n",
        "df = pd.read_csv(path)\n",
        "df.head()"
      ],
      "execution_count": 0,
      "outputs": []
    },
    {
      "cell_type": "code",
      "metadata": {
        "id": "9cLVlZ0tE8SG",
        "colab_type": "code",
        "colab": {}
      },
      "source": [
        "def delete_new_line_symbols(text):\n",
        "    text = text.replace('\\n', ' ')\n",
        "    return text"
      ],
      "execution_count": 0,
      "outputs": []
    },
    {
      "cell_type": "code",
      "metadata": {
        "id": "VDWvOOIFFR9l",
        "colab_type": "code",
        "colab": {}
      },
      "source": [
        "columns = ['region', 'city', 'price', 'title', 'subcategory', 'category', 'datetime_submitted' ]\n",
        "df.drop(columns, inplace=True, axis=1)"
      ],
      "execution_count": 0,
      "outputs": []
    },
    {
      "cell_type": "code",
      "metadata": {
        "id": "gvyqi-hCIMYN",
        "colab_type": "code",
        "colab": {}
      },
      "source": [
        "df.head()"
      ],
      "execution_count": 0,
      "outputs": []
    },
    {
      "cell_type": "code",
      "metadata": {
        "id": "dqWb_KbYIl8B",
        "colab_type": "code",
        "colab": {}
      },
      "source": [
        "df['description'] = df['description'].apply(delete_new_line_symbols)\n",
        "df.head()"
      ],
      "execution_count": 0,
      "outputs": []
    },
    {
      "cell_type": "code",
      "metadata": {
        "id": "xGXqwYoVJDjG",
        "colab_type": "code",
        "colab": {}
      },
      "source": [
        "target = np.array(df['is_bad'].astype('uint8'))\n",
        "target[:5]"
      ],
      "execution_count": 0,
      "outputs": []
    },
    {
      "cell_type": "code",
      "metadata": {
        "id": "t-29ZWxSJLqW",
        "colab_type": "code",
        "colab": {}
      },
      "source": [
        "tokenizer = Tokenizer(num_words=30000, filters='!\"#$%&()*+,-./:;<=>?@[\\\\]^_`{|}~\\t\\n', \n",
        "                      lower=True, \n",
        "                      split=' ', \n",
        "                      char_level=False)"
      ],
      "execution_count": 0,
      "outputs": []
    },
    {
      "cell_type": "code",
      "metadata": {
        "id": "PTh0jv6VJRxz",
        "colab_type": "code",
        "colab": {}
      },
      "source": [
        "tokenizer.fit_on_texts(df['description'])\n",
        "matrix = tokenizer.texts_to_matrix(df['description'], mode='count')\n",
        "matrix.shape"
      ],
      "execution_count": 0,
      "outputs": []
    },
    {
      "cell_type": "code",
      "metadata": {
        "id": "8ju-znlsOlHi",
        "colab_type": "code",
        "colab": {}
      },
      "source": [
        "def get_model():\n",
        "    \n",
        "    model = Sequential()\n",
        "    \n",
        "    model.add(Dense(32, activation='relu'))\n",
        "    model.add(Dropout(0.3))\n",
        "    model.add(Dense(16, activation='relu'))\n",
        "    model.add(Dropout(0.3))\n",
        "    model.add(Dense(16, activation='relu'))\n",
        "    model.add(Dense(1, activation='sigmoid'))\n",
        "    \n",
        "    model.compile(optimizer=RMSprop(lr=0.0001), \n",
        "                  loss='binary_crossentropy',\n",
        "                  metrics=['accuracy'])\n",
        "    \n",
        "    return model"
      ],
      "execution_count": 0,
      "outputs": []
    },
    {
      "cell_type": "code",
      "metadata": {
        "id": "Xt-BO9ncOmsi",
        "colab_type": "code",
        "colab": {}
      },
      "source": [
        "X = normalize(matrix)\n",
        "y = target\n",
        "\n",
        "X_train, X_test, y_train, y_test = train_test_split(X, \n",
        "                                                    y,\n",
        "                                                    test_size=0.2)\n",
        "\n",
        "X_train.shape, y_train.shape"
      ],
      "execution_count": 0,
      "outputs": []
    },
    {
      "cell_type": "code",
      "metadata": {
        "id": "Yad-OAxkOse4",
        "colab_type": "code",
        "colab": {}
      },
      "source": [
        "model = get_model()\n",
        "\n",
        "history = model.fit(X_train, \n",
        "                    y_train, \n",
        "                    epochs=120, \n",
        "                    batch_size=500,\n",
        "                    validation_data=(X_test, y_test))\n",
        "\n",
        "history"
      ],
      "execution_count": 0,
      "outputs": []
    },
    {
      "cell_type": "code",
      "metadata": {
        "id": "yH9U8vebsmjg",
        "colab_type": "code",
        "colab": {}
      },
      "source": [
        "test_loss, test_acc = model.evaluate(X_test, y_test, verbose=2)\n",
        "\n",
        "print('\\nТочность на проверочных данных:', test_acc)"
      ],
      "execution_count": 0,
      "outputs": []
    },
    {
      "cell_type": "code",
      "metadata": {
        "id": "4LUBTu7PaUFC",
        "colab_type": "code",
        "colab": {}
      },
      "source": [
        "#print(type(predictions))\n",
        "#predictions.astype(float)"
      ],
      "execution_count": 0,
      "outputs": []
    },
    {
      "cell_type": "code",
      "metadata": {
        "id": "WRxcdnfBDFdj",
        "colab_type": "code",
        "colab": {}
      },
      "source": [
        "# Results\n",
        "prediction = np.round(model.predict(X_test), 2)\n",
        "target_prediction = pd.DataFrame()\n",
        "target_prediction['index'] = range(prediction.shape[0])\n",
        "target_prediction['prediction'] = prediction\n",
        "target_prediction.to_csv('target_prediction.csv',index=False)\n",
        "pd.read_csv('target_prediction.csv')"
      ],
      "execution_count": 0,
      "outputs": []
    },
    {
      "cell_type": "code",
      "metadata": {
        "id": "46O4BwQstmC9",
        "colab_type": "code",
        "colab": {}
      },
      "source": [
        "y_test"
      ],
      "execution_count": 0,
      "outputs": []
    },
    {
      "cell_type": "code",
      "metadata": {
        "id": "GqybNAO7OzXq",
        "colab_type": "code",
        "colab": {}
      },
      "source": [
        "history = history.history\n",
        "\n",
        "fig = plt.figure(figsize=(20, 10))\n",
        "\n",
        "ax1 = fig.add_subplot(221)\n",
        "ax2 = fig.add_subplot(223)\n",
        "\n",
        "x = range(120)\n",
        "\n",
        "ax1.plot(x, history['acc'], 'b-', label='Accuracy')\n",
        "ax1.plot(x, history['val_acc'], 'r-', label='Validation accuracy')\n",
        "ax1.legend(loc='lower right')\n",
        "\n",
        "ax2.plot(x, history['loss'], 'b-', label='Losses')\n",
        "ax2.plot(x, history['val_loss'], 'r-', label='Validation losses')\n",
        "ax2.legend(loc='upper right')"
      ],
      "execution_count": 0,
      "outputs": []
    }
  ]
}